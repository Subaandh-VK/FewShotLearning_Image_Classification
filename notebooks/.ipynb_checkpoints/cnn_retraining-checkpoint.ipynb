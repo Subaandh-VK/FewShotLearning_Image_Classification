{
 "cells": [
  {
   "cell_type": "code",
   "execution_count": 6,
   "metadata": {},
   "outputs": [],
   "source": [
    "import keras_preprocessing\n",
    "from keras_preprocessing import image\n",
    "from keras_preprocessing.image import ImageDataGenerator\n",
    "import numpy as np\n",
    "from sklearn.metrics import confusion_matrix, ConfusionMatrixDisplay\n",
    "import matplotlib.pyplot as plt\n",
    "\n",
    "from tensorflow.keras.applications.vgg16 import VGG16\n",
    "from tensorflow.keras.models import Model\n",
    "from tensorflow.keras.layers import Dense\n",
    "from tensorflow.keras.layers import Flatten"
   ]
  },
  {
   "cell_type": "code",
   "execution_count": 4,
   "metadata": {
    "id": "LETe_A5cssdR"
   },
   "outputs": [
    {
     "name": "stdout",
     "output_type": "stream",
     "text": [
      "Found 40 images belonging to 5 classes.\n",
      "Found 10 images belonging to 5 classes.\n"
     ]
    }
   ],
   "source": [
    "directory = '../datasets/'\n",
    "\n",
    "train_dir = valid_dir = directory\n",
    "\n",
    "train_datagen = ImageDataGenerator(rescale = 1./255,\n",
    "                                      rotation_range=40,\n",
    "                                      width_shift_range=0.2,\n",
    "                                      height_shift_range=0.2,\n",
    "                                      shear_range=0.2,\n",
    "                                      zoom_range=0.2,\n",
    "                                      horizontal_flip=True,\n",
    "                                      fill_mode='nearest',\n",
    "                                      validation_split=0.2)\n",
    "\n",
    "\n",
    "# valid_datagen = ImageDataGenerator(rescale = 1./255)\n",
    "\n",
    "train_generator = train_datagen.flow_from_directory(train_dir,\n",
    "                                                    target_size=(200,200),\n",
    "                                                    class_mode='categorical',\n",
    "                                                    batch_size=5,\n",
    "                                                    subset='training')\n",
    "\n",
    "valid_generator = train_datagen.flow_from_directory(valid_dir,\n",
    "                                                    subset='validation',\n",
    "                                                    target_size=(200,200),\n",
    "                                                    class_mode='categorical',\n",
    "                                                    batch_size=5,\n",
    "                                                    )\n"
   ]
  },
  {
   "cell_type": "code",
   "execution_count": 7,
   "metadata": {},
   "outputs": [
    {
     "name": "stdout",
     "output_type": "stream",
     "text": [
      "Downloading data from https://storage.googleapis.com/tensorflow/keras-applications/vgg16/vgg16_weights_tf_dim_ordering_tf_kernels_notop.h5\n",
      "58892288/58889256 [==============================] - 18s 0us/step\n"
     ]
    }
   ],
   "source": [
    "class_names = list(train_generator.class_indices)\n",
    "num_classes = len(set(class_names))\n",
    "\n",
    "vgg_model = VGG16(include_top=False, input_shape=(200, 200, 3))\n",
    "\n",
    "for layer in vgg_model.layers:\n",
    "    layer.trainable=False\n",
    "\n",
    "flat1 = Flatten()(vgg_model.layers[-1].output)\n",
    "class1 = Dense(256, activation='relu')(flat1)\n",
    "output = Dense(num_classes, activation='softmax')(class1)\n",
    "\n",
    "model = Model(inputs = vgg_model.inputs, outputs = output)"
   ]
  },
  {
   "cell_type": "code",
   "execution_count": 9,
   "metadata": {
    "scrolled": true
   },
   "outputs": [
    {
     "name": "stdout",
     "output_type": "stream",
     "text": [
      "Epoch 1/5\n",
      "8/8 [==============================] - 11s 1s/step - loss: 4.9551 - accuracy: 0.3250 - val_loss: 3.0513 - val_accuracy: 0.3000\n",
      "Epoch 2/5\n",
      "8/8 [==============================] - 10s 1s/step - loss: 2.2600 - accuracy: 0.3500 - val_loss: 1.9031 - val_accuracy: 0.5000\n",
      "Epoch 3/5\n",
      "8/8 [==============================] - 12s 2s/step - loss: 0.9810 - accuracy: 0.6000 - val_loss: 1.3952 - val_accuracy: 0.4000\n",
      "Epoch 4/5\n",
      "8/8 [==============================] - 15s 2s/step - loss: 1.0777 - accuracy: 0.6000 - val_loss: 2.2484 - val_accuracy: 0.4000\n",
      "Epoch 5/5\n",
      "8/8 [==============================] - 18s 2s/step - loss: 0.6633 - accuracy: 0.7500 - val_loss: 1.6537 - val_accuracy: 0.4000\n"
     ]
    }
   ],
   "source": [
    "model.compile(loss = 'categorical_crossentropy', optimizer='adam', metrics=['accuracy'])\n",
    "\n",
    "history = model.fit(train_generator,\n",
    "                    validation_data = valid_generator,\n",
    "                    epochs=5, verbose=1)\n",
    "\n",
    "    # model.save(\"../models/CNN-output.h5\")\n",
    "out = []\n",
    "res = []\n",
    "\n",
    "for val in range(len(valid_generator)):\n",
    "    (a, b) = valid_generator[val]\n",
    "    out.append(a)\n",
    "    res.append(b)\n",
    "\n",
    "o = out[0]\n",
    "r = res[0]\n",
    "\n",
    "for i in range(1, len(out)):\n",
    "    o = np.concatenate((o, out[i]))\n",
    "    r = np.concatenate((r, res[i]))\n",
    "\n",
    "pred = model.predict(o)"
   ]
  },
  {
   "cell_type": "code",
   "execution_count": 10,
   "metadata": {},
   "outputs": [],
   "source": [
    "pred = [np.argmax(val) for val in pred]\n",
    "r = [np.argmax(val) for val in r]"
   ]
  },
  {
   "cell_type": "code",
   "execution_count": 11,
   "metadata": {},
   "outputs": [
    {
     "data": {
      "image/png": "[encoded data removed]",
      "text/plain": [
       "<Figure size 432x288 with 2 Axes>"
      ]
     },
     "metadata": {
      "needs_background": "light"
     },
     "output_type": "display_data"
    }
   ],
   "source": [
    "cm = confusion_matrix(r, pred)\n",
    "cm = cm.astype('float') / cm.sum(axis=1)[:, np.newaxis]\n",
    "cmd = ConfusionMatrixDisplay(cm, display_labels=class_names)\n",
    "\n",
    "cmd.plot()\n",
    "cmd.ax_.set(title='Confusion Matrix',\n",
    "            xlabel='Predicted Fruits',\n",
    "            ylabel='Actual Fruits')\n",
    "\n",
    "plt.savefig('../static/cnn.jpg')"
   ]
  },
  {
   "cell_type": "code",
   "execution_count": null,
   "metadata": {},
   "outputs": [],
   "source": []
  }
 ],
 "metadata": {
  "accelerator": "GPU",
  "colab": {
   "collapsed_sections": [],
   "name": "simple-fruit-detector-by-cnn (1).ipynb",
   "provenance": []
  },
  "kernelspec": {
   "display_name": "Python 3",
   "language": "python",
   "name": "python3"
  },
  "language_info": {
   "codemirror_mode": {
    "name": "ipython",
    "version": 3
   },
   "file_extension": ".py",
   "mimetype": "text/x-python",
   "name": "python",
   "nbconvert_exporter": "python",
   "pygments_lexer": "ipython3",
   "version": "3.8.8"
  },
  "toc": {
   "base_numbering": 1,
   "nav_menu": {},
   "number_sections": true,
   "sideBar": true,
   "skip_h1_title": false,
   "title_cell": "Table of Contents",
   "title_sidebar": "Contents",
   "toc_cell": false,
   "toc_position": {},
   "toc_section_display": true,
   "toc_window_display": false
  },
  "varInspector": {
   "cols": {
    "lenName": 16,
    "lenType": 16,
    "lenVar": 40
   },
   "kernels_config": {
    "python": {
     "delete_cmd_postfix": "",
     "delete_cmd_prefix": "del ",
     "library": "var_list.py",
     "varRefreshCmd": "print(var_dic_list())"
    },
    "r": {
     "delete_cmd_postfix": ") ",
     "delete_cmd_prefix": "rm(",
     "library": "var_list.r",
     "varRefreshCmd": "cat(var_dic_list()) "
    }
   },
   "types_to_exclude": [
    "module",
    "function",
    "builtin_function_or_method",
    "instance",
    "_Feature"
   ],
   "window_display": false
  }
 },
 "nbformat": 4,
 "nbformat_minor": 1
}
